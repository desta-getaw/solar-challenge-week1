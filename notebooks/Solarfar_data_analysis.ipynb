{
 "cells": [
  {
   "cell_type": "code",
   "id": "initial_id",
   "metadata": {
    "collapsed": true
   },
   "source": [
    "# Core libraries\n",
    "import pandas as pd\n",
    "import numpy as np\n",
    "import matplotlib.pyplot as plt\n",
    "import seaborn as sns\n",
    "import plotly.express as px\n",
    "from scipy import stats\n",
    "from pathlib import Path\n",
    "from pathlib import Path\n",
    "import pandas as pd\n",
    "import seaborn as sns\n",
    "from typing import Dict, Tuple"
   ],
   "outputs": [],
   "execution_count": null
  },
  {
   "metadata": {},
   "cell_type": "markdown",
   "source": [
    "We also configured display settings and paths to manage data files efficiently. Setting up the environment correctly ensures smooth data processing and visualization.\n",
    "\n"
   ],
   "id": "8e5b8ce6ca2281bb"
  },
  {
   "metadata": {},
   "cell_type": "code",
   "source": [
    "from pathlib import Path\n",
    "import pandas as pd\n",
    "import seaborn as sns\n",
    "\n",
    "# Configuration\n",
    "class Config:\n",
    "    DATA_DIR = Path(\"../../data/raw/\")\n",
    "    OUTPUT_DIR = Path(\"../../data/processed\")\n",
    "    REGIONS = ['Benin', 'Sierraleon', 'Togo']\n",
    "    SOLAR_COLS = ['GHI', 'DNI', 'DHI', 'ModA', 'ModB']\n",
    "    CLIMATE_COLS = ['Tamb', 'RH', 'WS', 'Precipitation']\n",
    "    DATE_COL = 'Timestamp'\n",
    "\n",
    "    @classmethod\n",
    "    def setup(cls):\n",
    "        cls.OUTPUT_DIR.mkdir(parents=True, exist_ok=True)\n",
    "\n",
    "# Run setup\n",
    "Config.setup()\n",
    "\n",
    "# Set display and plot preferences\n",
    "pd.set_option('display.float_format', '{:.2f}'.format)\n",
    "sns.set_theme(style='whitegrid')\n"
   ],
   "id": "b6f5ee76b6565c39",
   "outputs": [],
   "execution_count": null
  },
  {
   "metadata": {},
   "cell_type": "code",
   "source": "",
   "id": "63bd8c37c9763659",
   "outputs": [],
   "execution_count": null
  },
  {
   "metadata": {},
   "cell_type": "markdown",
   "source": [
    "**Data Loading**\n",
    "\n",
    "We start by bringing in raw datasets from Benin, Sierra Leone, and Togo, ensuring we have all the necessary data for analysis. Next, we merge these datasets with their respective region labels to maintain clarity. A quick initial inspection helps spot any obvious issues, such as missing values or unexpected formats.\n"
   ],
   "id": "1b16f235eef8a573"
  },
  {
   "metadata": {
    "ExecuteTime": {
     "end_time": "2025-05-20T18:30:45.403177Z",
     "start_time": "2025-05-20T18:29:54.238057Z"
    }
   },
   "cell_type": "code",
   "source": [
    "import pandas as pd\n",
    "from pathlib import Path\n",
    "\n",
    "# Define directories\n",
    "data_dir = Path(\"../data/raw\")\n",
    "output_file = Path(\"../data/processed/solar_data.csv\")\n",
    "\n",
    "# Define regions and their respective file names\n",
    "regions = [\"Benin\", \"Sierraleon\", \"Togo\"]\n",
    "dataframes = []\n",
    "\n",
    "# Load each CSV and assign region label\n",
    "for region in regions:\n",
    "    file_path = data_dir / f\"{region}_solar_data.csv\"\n",
    "    if file_path.exists():\n",
    "        df = pd.read_csv(file_path, parse_dates=[\"Timestamp\"])\n",
    "        df[\"Region\"] = region  # Add region column explicitly\n",
    "        print(f\"✅ Loaded {region}: {df.shape[0]} rows\")\n",
    "        dataframes.append(df)\n",
    "    else:\n",
    "        print(f\"❌ File not found for region: {region} -> {file_path}\")\n",
    "\n",
    "# Merge all data and save\n",
    "if dataframes:\n",
    "    merged_df = pd.concat(dataframes, ignore_index=True)\n",
    "    output_file.parent.mkdir(parents=True, exist_ok=True)\n",
    "    merged_df.to_csv(output_file, index=False)\n",
    "    print(f\"\\n✅ Merged dataset saved to: {output_file}\")\n",
    "    print(f\"📊 Summary:\\n{merged_df['Region'].value_counts()}\")\n",
    "else:\n",
    "    print(\"⚠️ No files were loaded. Check your file paths.\")\n"
   ],
   "id": "734f057b3b050ec2",
   "outputs": [
    {
     "name": "stdout",
     "output_type": "stream",
     "text": [
      "✅ Loaded Benin: 525600 rows\n",
      "✅ Loaded Sierraleon: 525600 rows\n",
      "✅ Loaded Togo: 525600 rows\n",
      "\n",
      "✅ Merged dataset saved to: ..\\data\\processed\\solar_data.csv\n",
      "📊 Summary:\n",
      "Region\n",
      "Benin         525600\n",
      "Sierraleon    525600\n",
      "Togo          525600\n",
      "Name: count, dtype: int64\n"
     ]
    }
   ],
   "execution_count": 17
  },
  {
   "metadata": {
    "ExecuteTime": {
     "end_time": "2025-05-20T18:35:24.018102Z",
     "start_time": "2025-05-20T18:35:24.013352Z"
    }
   },
   "cell_type": "code",
   "source": "",
   "id": "d01a817fc3342386",
   "outputs": [],
   "execution_count": null
  },
  {
   "metadata": {},
   "cell_type": "code",
   "source": "",
   "id": "163fd888769cac29",
   "outputs": [],
   "execution_count": null
  }
 ],
 "metadata": {
  "kernelspec": {
   "display_name": "Python 3",
   "language": "python",
   "name": "python3"
  },
  "language_info": {
   "codemirror_mode": {
    "name": "ipython",
    "version": 2
   },
   "file_extension": ".py",
   "mimetype": "text/x-python",
   "name": "python",
   "nbconvert_exporter": "python",
   "pygments_lexer": "ipython2",
   "version": "2.7.6"
  }
 },
 "nbformat": 4,
 "nbformat_minor": 5
}
